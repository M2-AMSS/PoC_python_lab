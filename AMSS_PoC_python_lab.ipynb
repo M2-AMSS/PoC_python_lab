{
 "cells": [
  {
   "cell_type": "markdown",
   "id": "f351e85c-f7e9-4eb7-89e6-4135f262cecc",
   "metadata": {
    "editable": true,
    "slideshow": {
     "slide_type": ""
    },
    "tags": []
   },
   "source": [
    "M2 AMSS - Proof of Concept\n",
    "\n",
    "# Python lab\n",
    "\n",
    "by Bruno DENIS, ENS Paris-Saclay"
   ]
  },
  {
   "cell_type": "markdown",
   "id": "717416df-3c6a-4e4c-b592-19253e7cd048",
   "metadata": {
    "editable": true,
    "slideshow": {
     "slide_type": "slide"
    },
    "tags": []
   },
   "source": [
    "## General objective\n",
    "\n",
    "- Put yourself in the context of the PoC project to clarify expectations\n",
    "  - start from a scientific paper (today a \"tiny\" paper)\n",
    "  - Understand the approach proposed in the paper\n",
    "  - Collect and generate representative input data to benchmark the paper approach\n",
    "  - Coding to reproduce the paper approach\n",
    "  - Manage the progress and naration of your work with a Github repository"
   ]
  },
  {
   "cell_type": "markdown",
   "id": "a4033960-be31-4c91-b3fb-51e789f6658b",
   "metadata": {
    "editable": true,
    "slideshow": {
     "slide_type": "subslide"
    },
    "tags": []
   },
   "source": [
    "## Operational objective\n",
    "\n",
    "- Python\n",
    "  - object-based data modeling (as in the previous exercise)\n",
    "  - display 3D graphics (ex: matplotlib module)\n",
    "  - Using a graph theory library (ex: networkx module)\n",
    "- Git\n",
    "  - commit your code in `python_lab` directory\n",
    "- Jupyter\n",
    "  - create a narrative of your work (include it on git repositoty)\n",
    "  - use basics of markdown format"
   ]
  },
  {
   "cell_type": "markdown",
   "id": "9fb1ace2-f1a2-4abe-ae46-0e5b727c0a01",
   "metadata": {
    "editable": true,
    "slideshow": {
     "slide_type": "slide"
    },
    "tags": []
   },
   "source": [
    "## Lab statement\n",
    "\n",
    "- Read the following \"tiny\" paper : *Triangular representation of a 3-dimensional surface geometry - plan intersection and geodesic*\n",
    "- Create a `python_lab` directory in your github depository\n",
    "- Develop a Python code to reproduce paper approach\n",
    "  - design data structure (UML class diagram could be help)\n",
    "  - code a Python module able to calculte plan/solid intersection and geodesic\n",
    "- Evaluate the complexity of your algorithms\n",
    "- Benchmark paper approach with a set of input data\n",
    "- Write de narative of your work (Python module design and usage, paper benchmark, data set description)\n",
    "\n",
    "*Four last points will be addressed in interative nanner*"
   ]
  },
  {
   "cell_type": "markdown",
   "id": "39e7561b-304e-4aab-871f-e105150c5a29",
   "metadata": {
    "editable": true,
    "slideshow": {
     "slide_type": "slide"
    },
    "tags": []
   },
   "source": [
    "## Tiny paper (not a real one)\n",
    "\n",
    "### Triangular representation of a 3-dimensional surface geometry - plan intersection and geodesic\n",
    "\n",
    "by Someboby ;-)\n",
    "\n",
    "Abstract: Introduction of STL format to describe 3D solids and how to compute intersection plan/solid dan how to comute geodesic between two points of solid surface."
   ]
  },
  {
   "cell_type": "markdown",
   "id": "b2d82176-0e4d-4767-b911-7e6a3bdcf414",
   "metadata": {
    "editable": true,
    "slideshow": {
     "slide_type": "subslide"
    },
    "tags": []
   },
   "source": [
    "STL file format is perhaps  the main standard for 3D printing. The format is specified as both an ASCII (printable character) format as well as a binary format. This format provides a **triangular representation of a 3-dimensional surface geometry**. The surface is broken down into a series of small triangles call facets. Each facet is identified by a normal unit vector (perpendicular to the facet and with a length of 1.0) and by three vertices (corners of the triangle). \n",
    "\n",
    "- Orientation of a facet is determined by the direction of the unit normal and the order in which the vertices are listed (see next fig., left side). This two ways to specify facet orientation are redundant and must be consistent. \n",
    "\n",
    "- Each facet (triangle) must share two vertices (corners) with each of its neighboring \n",
    "  facets. Next figure (right side) shows a violation of this rule and a correct configuration.\n",
    "\n",
    "![](img/stl_principle.svg)"
   ]
  },
  {
   "cell_type": "markdown",
   "id": "896e35e9-ab49-4a5a-8342-701cd30e682c",
   "metadata": {
    "editable": true,
    "slideshow": {
     "slide_type": "subslide"
    },
    "tags": []
   },
   "source": [
    "**ASCII format**: example of file with two facets\n",
    "\n",
    "<code style=\"font-size:1em;\">\n",
    "solid MySolidName\n",
    "\n",
    " facet normal 0.035587 -0.0022915 0.999364\n",
    "  outer loop\n",
    "  vertex 0.486688 0.030433 8.55517\n",
    "  vertex 0.490792 0.093757 8.55517\n",
    "  vertex 0.031389 0.093757 8.57153\n",
    "  endloop\n",
    " endfacet\n",
    "\n",
    " facet normal 0.0349306 -0.0069426 0.999366\n",
    "  outer loop\n",
    "  vertex 0.474708 -0.03 8.55517\n",
    "  vertex 0.486688 0.030433 8.55517\n",
    "  vertex 0.031389 0.093757 8.57153\n",
    "  endloop\n",
    " endfacet\n",
    "\n",
    "endsolid MySolidName\n",
    "</code>"
   ]
  },
  {
   "cell_type": "markdown",
   "id": "6c834f2d-11d1-4e7c-bd96-b45b21d650b9",
   "metadata": {
    "editable": true,
    "slideshow": {
     "slide_type": "subslide"
    },
    "tags": []
   },
   "source": [
    "Keywords `solid`,  `endsolid`, `facet normal`, `endfacet`, `outer loop`, `endloop` and `vertex` are in lower case. The numerical data are single precision floats, for example, 1.23456e+789 or  1.23456\n",
    "\n",
    "Illustration\n",
    "\n",
    "![Principle](img/stl_principle2.svg)"
   ]
  },
  {
   "cell_type": "markdown",
   "id": "c9d27365-c7d4-411d-ac92-3a6b91769466",
   "metadata": {
    "editable": true,
    "slideshow": {
     "slide_type": "subslide"
    },
    "tags": []
   },
   "source": [
    " but let’s see how it actually works. Are you planning to use 3D \n",
    "printing for the first time? Or are you looking for more details about \n",
    "file formats suitable for additive manufacturing? Then, this blog post \n",
    "will certainly help to answer some of your questions.\n",
    "\n",
    "Today,\n",
    " we are going to give you all the information you need about STL files. \n",
    "What is it exactly and what are the advantages for you? How to create \n",
    "it, and how to use it? Let’s discover it right now and explain this file\n",
    " format in depth.\n",
    "\n",
    "Online conversion from binary STL to ASCII STL: [https://www.meshconvert.com/](https://www.meshconvert.com/), [https://fabconvert.com/convert/3d-model](https://fabconvert.com/convert/3d-model)\n",
    "\n",
    "Online viewer: https://3dviewer.net/"
   ]
  },
  {
   "cell_type": "markdown",
   "id": "56c7bbb7-2dc5-4a32-b3a7-0d7881ab659b",
   "metadata": {
    "editable": true,
    "slideshow": {
     "slide_type": "subslide"
    },
    "tags": []
   },
   "source": [
    "#### Intersection with a plan\n",
    "\n",
    "To get STL model intersection with a plane, the intersection between each facet and the plane is calculated (nothing, a point or a segment) and the union of all these intersections gives the 3D intersection line\n",
    "\n",
    "![Intersection](img/intersection.svg)"
   ]
  },
  {
   "cell_type": "markdown",
   "id": "ca5c4887-d16d-4b15-adef-dc877a603c6e",
   "metadata": {
    "editable": true,
    "slideshow": {
     "slide_type": "subslide"
    },
    "tags": []
   },
   "source": [
    "![Intersection](img/chess_pawn_report.svg)"
   ]
  },
  {
   "cell_type": "markdown",
   "id": "b39de25c-51b0-4684-a5ca-bb9dffec8205",
   "metadata": {
    "editable": true,
    "slideshow": {
     "slide_type": "subslide"
    },
    "tags": []
   },
   "source": [
    "#### Intersection plan-line\n",
    "\n",
    "Notations\n",
    "\n",
    "$A(x_A, y_A, z_A)$  and  $B(x_B, y_B, z_B)$  are two points\n",
    "\n",
    "$L = \\overleftrightarrow{AB}$ is a line defined by points A and B\n",
    "\n",
    "$P$ is a plan defined by the following equation $M(x,y,z) \\in P$   iff   $ax + by + cz = d$\n",
    "\n",
    "$I(x_i, y_I, z_I)$ is the point intersection common to line $L$ and plan $P$\n",
    "\n",
    "$S = \\overline{AB}$ is a line segment bounded by points A and B\n",
    "\n",
    "![](img/plan_segment.svg)"
   ]
  },
  {
   "cell_type": "markdown",
   "id": "7b87019f-7c49-465c-8d73-6a12f4f46f3a",
   "metadata": {
    "editable": true,
    "slideshow": {
     "slide_type": "subslide"
    },
    "tags": []
   },
   "source": [
    "$M(x,y,z) \\in L$ if it exist $\\exists k \\in \\mathbb{R}$ such as\n",
    "\n",
    "$$\n",
    "\\begin{align}\n",
    "\\overrightarrow{AM} &= k.\\overrightarrow{AB} \\\\\n",
    "\\begin{pmatrix}\n",
    "  x - x_A \\\\\n",
    "  y - y_A \\\\\n",
    "  z - z_A\n",
    "\\end{pmatrix} &=\n",
    "\\begin{pmatrix}\n",
    "x_B - x_A \\\\\n",
    "y_B - y_A \\\\\n",
    "z_B - z_A\n",
    "\\end{pmatrix}\n",
    "\\end{align}\n",
    "$$\n",
    "\n",
    "$$\n",
    "\\left( \\begin{array}{ccc}\n",
    "x &=& k(x_B - x_A) + x_A\\\\\n",
    "y &=& k(y_B - y_A) + y_A\\\\\n",
    "z &=& k(z_B - z_A) + z_A\n",
    "\\end{array} \\right.\n",
    "$$\n",
    "\n",
    "$I(x_I, y_I, z_I) \\in P$  and  $I (x_I, y_I, z_I) \\in \\overleftrightarrow{AB}$\n",
    "\n",
    "$$\n",
    "\\left(\\begin{array}{ccc}\n",
    "ax_I + by_I + cz_I &=& d \\\\\n",
    "x_I &=& k(x_B - x_A) + x_A \\\\\n",
    "y_I &=& k(y_B - y_A) + y_A \\\\\n",
    "z_I &=& k(z_B - z_A) + z_A\n",
    "\\end{array}\\right.\n",
    "$$\n",
    "\n",
    "$$\n",
    "k = \\frac{d - a x_A - b y_A - c z_A}{a(x_B - x_A) + b(y_B - y_A) + c(z_B - z_A)}\n",
    "$$"
   ]
  },
  {
   "cell_type": "markdown",
   "id": "145ed091-fe38-4f6a-a946-7ec0a8c39931",
   "metadata": {
    "editable": true,
    "slideshow": {
     "slide_type": "subslide"
    },
    "tags": []
   },
   "source": [
    "#### Determine geodesic\n",
    "\n",
    "Geodesicis a curve representing in some sense the shortest path between two points in a surface.\n",
    "\n",
    "To get geodesic between to vertices of a solid in STL format, the STL format is view as a weighted graph where graph nodes are STL vertices and graph arcs are STL facet segments weighted with facet segments length."
   ]
  },
  {
   "cell_type": "code",
   "execution_count": null,
   "id": "c6adb926-e38b-4576-b6e3-7d956f9ba4ab",
   "metadata": {
    "editable": true,
    "slideshow": {
     "slide_type": ""
    },
    "tags": []
   },
   "outputs": [],
   "source": []
  }
 ],
 "metadata": {
  "kernelspec": {
   "display_name": "Python 3 (ipykernel)",
   "language": "python",
   "name": "python3"
  },
  "language_info": {
   "codemirror_mode": {
    "name": "ipython",
    "version": 3
   },
   "file_extension": ".py",
   "mimetype": "text/x-python",
   "name": "python",
   "nbconvert_exporter": "python",
   "pygments_lexer": "ipython3",
   "version": "3.12.3"
  }
 },
 "nbformat": 4,
 "nbformat_minor": 5
}
